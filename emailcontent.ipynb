{
 "cells": [
  {
   "cell_type": "code",
   "execution_count": 1,
   "id": "ceede696-31ee-4849-8f79-be6004f5ea70",
   "metadata": {},
   "outputs": [],
   "source": [
    "import os\n",
    "import requests\n",
    "import json\n",
    "from typing import List\n",
    "from dotenv import load_dotenv\n",
    "from bs4 import BeautifulSoup\n",
    "from IPython.display import Markdown, display, update_display\n",
    "from openai import OpenAI"
   ]
  },
  {
   "cell_type": "code",
   "execution_count": 6,
   "id": "f885c724-c40c-43d5-b359-433b3e505dc9",
   "metadata": {},
   "outputs": [
    {
     "name": "stdout",
     "output_type": "stream",
     "text": [
      "API key found and looks good so far!\n"
     ]
    }
   ],
   "source": [
    "load_dotenv(override=True)\n",
    "api_key=os.getenv(\"OPENAI_API_KEY\")\n",
    "\n",
    "if not api_key:\n",
    "    print(\"No API key was found!\")\n",
    "elif not api_key.startswith(\"sk-proj-\"):\n",
    "    print(\"An API key was found, but it doesn't start sk-proj-; please check you're using the right key\")\n",
    "elif api_key.strip() !=api_key:\n",
    "    print(\"An API key was found, but it looks like it might have space or tab characters at the start or end - please remove them\")\n",
    "else:\n",
    "    print(\"API key found and looks good so far!\")"
   ]
  },
  {
   "cell_type": "code",
   "execution_count": 7,
   "id": "010d102e-f3bb-4ee1-9e8e-8947a6f96d18",
   "metadata": {},
   "outputs": [
    {
     "name": "stdout",
     "output_type": "stream",
     "text": [
      "Hello! I'm glad to hear from you! How can I assist you today?\n"
     ]
    }
   ],
   "source": [
    "openai=OpenAI()\n",
    "message = \"Hello, GPT! This is my first ever message to you! Hi!\"\n",
    "response = openai.chat.completions.create(model=\"gpt-4o-mini\", messages=[{\"role\":\"user\", \"content\":message}])\n",
    "print(response.choices[0].message.content)"
   ]
  },
  {
   "cell_type": "code",
   "execution_count": 12,
   "id": "895dedc9-5665-47fd-99ab-82895f3220d5",
   "metadata": {},
   "outputs": [],
   "source": [
    "system_prompt=\"You are an assistant that generates short, professional subject lines for emails. \\\n",
    "The subject line must be under 10 words, concise, and directly reflect the email's main purpose.\"\n",
    "user_prompt=\"\"\"\n",
    "Hi Marketing Team,\n",
    "\n",
    "I wanted to share the draft agenda for our upcoming product launch meeting. \n",
    "We will cover timeline updates, marketing assets, and responsibilities. \n",
    "Please review before Friday and suggest any changes.\n",
    "\n",
    "Best,\n",
    "Sara\n",
    "---\n",
    "Please generate a short subject line for this email.\n",
    "\"\"\""
   ]
  },
  {
   "cell_type": "code",
   "execution_count": 13,
   "id": "07adf53f-3b0e-401b-8a18-e9a20c43c650",
   "metadata": {},
   "outputs": [],
   "source": [
    "messages=[\n",
    "    {\"role\":\"system\",\"content\":user_prompt},\n",
    "    {\"role\":\"user\",\"content\":user_prompt}\n",
    "]"
   ]
  },
  {
   "cell_type": "code",
   "execution_count": 14,
   "id": "2f66c1a0-4ef5-497d-b5e6-86944c0d9041",
   "metadata": {},
   "outputs": [],
   "source": [
    "openai=OpenAI()\n",
    "response=openai.chat.completions.create(model=\"gpt-4o-mini\",messages=messages)"
   ]
  },
  {
   "cell_type": "code",
   "execution_count": 17,
   "id": "4ca16029-b9ff-4820-bb45-74a21ba977f8",
   "metadata": {},
   "outputs": [
    {
     "name": "stdout",
     "output_type": "stream",
     "text": [
      "Suggested Subject Line:  Draft Agenda for Product Launch Meeting\n"
     ]
    }
   ],
   "source": [
    "print(\"Suggested Subject Line: \",response.choices[0].message.content)"
   ]
  },
  {
   "cell_type": "code",
   "execution_count": 18,
   "id": "4cd3c6cb-674f-452a-9a17-8b11734e03a3",
   "metadata": {},
   "outputs": [],
   "source": [
    "def generate_subject_line(email_text: str) -> str:\n",
    "    \"\"\"\n",
    "    Takes the content of an email and generates\n",
    "    a short, professional subject line.\n",
    "    \"\"\"\n",
    "    system_prompt = (\n",
    "        \"You are an assistant that generates short, professional subject lines for emails. \"\n",
    "        \"The subject line must be under 10 words, concise, and reflect the main purpose of the email.\"\n",
    "    )\n",
    "    \n",
    "    user_prompt = email_text + \"\\n\\n---\\nPlease generate a short subject line for this email.\"\n",
    "    \n",
    "    messages = [\n",
    "        {\"role\": \"system\", \"content\": system_prompt},\n",
    "        {\"role\": \"user\", \"content\": user_prompt}\n",
    "    ]\n",
    "    \n",
    "    response = openai.chat.completions.create(\n",
    "        model=\"gpt-4o-mini\",\n",
    "        messages=messages\n",
    "    )\n",
    "    \n",
    "    return response.choices[0].message.content.strip()"
   ]
  },
  {
   "cell_type": "code",
   "execution_count": 19,
   "id": "8251f81b-7abf-4406-91c4-055a85033b79",
   "metadata": {},
   "outputs": [
    {
     "name": "stdout",
     "output_type": "stream",
     "text": [
      "Email 1 Subject Line: Draft Agenda for Product Launch Meeting\n"
     ]
    }
   ],
   "source": [
    "# Email 1\n",
    "email1 = \"\"\"\n",
    "Hi Marketing Team,\n",
    "\n",
    "I wanted to share the draft agenda for our upcoming product launch meeting. \n",
    "We will cover timeline updates, marketing assets, and responsibilities. \n",
    "Please review before Friday and suggest any changes.\n",
    "\n",
    "Best,\n",
    "Sara\n",
    "\"\"\"\n",
    "\n",
    "print(\"Email 1 Subject Line:\", generate_subject_line(email1))\n"
   ]
  },
  {
   "cell_type": "code",
   "execution_count": null,
   "id": "52d2ed74-eb5c-4ea5-b24a-2ebba088557d",
   "metadata": {},
   "outputs": [],
   "source": []
  }
 ],
 "metadata": {
  "kernelspec": {
   "display_name": "Python 3 (ipykernel)",
   "language": "python",
   "name": "python3"
  },
  "language_info": {
   "codemirror_mode": {
    "name": "ipython",
    "version": 3
   },
   "file_extension": ".py",
   "mimetype": "text/x-python",
   "name": "python",
   "nbconvert_exporter": "python",
   "pygments_lexer": "ipython3",
   "version": "3.11.13"
  }
 },
 "nbformat": 4,
 "nbformat_minor": 5
}
